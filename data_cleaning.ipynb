{
 "cells": [
  {
   "cell_type": "code",
   "execution_count": 1,
   "outputs": [],
   "source": [
    "# This is a self-defined python script that stores the data cleaning function\n",
    "# We will call the functions defined in the \"data.py\" script to clean and process economic data\n",
    "import data\n",
    "import config\n",
    "import fredapi as fa"
   ],
   "metadata": {
    "collapsed": false,
    "pycharm": {
     "name": "#%%\n"
    }
   }
  },
  {
   "cell_type": "markdown",
   "source": [
    "### Clean & Process features & labels"
   ],
   "metadata": {
    "collapsed": false,
    "pycharm": {
     "name": "#%% md\n"
    }
   }
  },
  {
   "cell_type": "code",
   "execution_count": 2,
   "outputs": [
    {
     "data": {
      "text/plain": "            nonfarm_payroll  payroll_delta_1m  payroll_delta_3m  \\\ndate                                                              \n1939-01-01          29923.0               NaN               NaN   \n1939-02-01          30100.0          0.591518               NaN   \n1939-03-01          30280.0          0.598007               NaN   \n1939-04-01          30094.0         -0.614267          0.571467   \n1939-05-01          30299.0          0.681199          0.661130   \n...                     ...               ...               ...   \n2022-01-01         149744.0          0.337711          1.174960   \n2022-02-01         150458.0          0.476814          1.214918   \n2022-03-01         150856.0          0.264526          1.082820   \n2022-04-01         151292.0          0.289017          1.033764   \n2022-05-01         151682.0          0.257780          0.813516   \n\n            payroll_delta_6m  payroll_delta_12m  payroll_diff_12m_1m  \\\ndate                                                                   \n1939-01-01               NaN                NaN                  NaN   \n1939-02-01               NaN                NaN                  NaN   \n1939-03-01               NaN                NaN                  NaN   \n1939-04-01               NaN                NaN                  NaN   \n1939-05-01               NaN                NaN                  NaN   \n...                      ...                ...                  ...   \n2022-01-01          2.293236           4.703637             4.365926   \n2022-02-01          2.419267           4.683184             4.206370   \n2022-03-01          2.394657           4.448491             4.183965   \n2022-04-01          2.220871           4.559968             4.270951   \n2022-05-01          2.038318           4.506652             4.248872   \n\n            payroll_diff_12m_3m  payroll_diff_12m_6m  \ndate                                                  \n1939-01-01                  NaN                  NaN  \n1939-02-01                  NaN                  NaN  \n1939-03-01                  NaN                  NaN  \n1939-04-01                  NaN                  NaN  \n1939-05-01                  NaN                  NaN  \n...                         ...                  ...  \n2022-01-01             3.528676             2.410400  \n2022-02-01             3.468266             2.263917  \n2022-03-01             3.365671             2.053834  \n2022-04-01             3.526204             2.339097  \n2022-05-01             3.693136             2.468334  \n\n[1001 rows x 8 columns]",
      "text/html": "<div>\n<style scoped>\n    .dataframe tbody tr th:only-of-type {\n        vertical-align: middle;\n    }\n\n    .dataframe tbody tr th {\n        vertical-align: top;\n    }\n\n    .dataframe thead th {\n        text-align: right;\n    }\n</style>\n<table border=\"1\" class=\"dataframe\">\n  <thead>\n    <tr style=\"text-align: right;\">\n      <th></th>\n      <th>nonfarm_payroll</th>\n      <th>payroll_delta_1m</th>\n      <th>payroll_delta_3m</th>\n      <th>payroll_delta_6m</th>\n      <th>payroll_delta_12m</th>\n      <th>payroll_diff_12m_1m</th>\n      <th>payroll_diff_12m_3m</th>\n      <th>payroll_diff_12m_6m</th>\n    </tr>\n    <tr>\n      <th>date</th>\n      <th></th>\n      <th></th>\n      <th></th>\n      <th></th>\n      <th></th>\n      <th></th>\n      <th></th>\n      <th></th>\n    </tr>\n  </thead>\n  <tbody>\n    <tr>\n      <th>1939-01-01</th>\n      <td>29923.0</td>\n      <td>NaN</td>\n      <td>NaN</td>\n      <td>NaN</td>\n      <td>NaN</td>\n      <td>NaN</td>\n      <td>NaN</td>\n      <td>NaN</td>\n    </tr>\n    <tr>\n      <th>1939-02-01</th>\n      <td>30100.0</td>\n      <td>0.591518</td>\n      <td>NaN</td>\n      <td>NaN</td>\n      <td>NaN</td>\n      <td>NaN</td>\n      <td>NaN</td>\n      <td>NaN</td>\n    </tr>\n    <tr>\n      <th>1939-03-01</th>\n      <td>30280.0</td>\n      <td>0.598007</td>\n      <td>NaN</td>\n      <td>NaN</td>\n      <td>NaN</td>\n      <td>NaN</td>\n      <td>NaN</td>\n      <td>NaN</td>\n    </tr>\n    <tr>\n      <th>1939-04-01</th>\n      <td>30094.0</td>\n      <td>-0.614267</td>\n      <td>0.571467</td>\n      <td>NaN</td>\n      <td>NaN</td>\n      <td>NaN</td>\n      <td>NaN</td>\n      <td>NaN</td>\n    </tr>\n    <tr>\n      <th>1939-05-01</th>\n      <td>30299.0</td>\n      <td>0.681199</td>\n      <td>0.661130</td>\n      <td>NaN</td>\n      <td>NaN</td>\n      <td>NaN</td>\n      <td>NaN</td>\n      <td>NaN</td>\n    </tr>\n    <tr>\n      <th>...</th>\n      <td>...</td>\n      <td>...</td>\n      <td>...</td>\n      <td>...</td>\n      <td>...</td>\n      <td>...</td>\n      <td>...</td>\n      <td>...</td>\n    </tr>\n    <tr>\n      <th>2022-01-01</th>\n      <td>149744.0</td>\n      <td>0.337711</td>\n      <td>1.174960</td>\n      <td>2.293236</td>\n      <td>4.703637</td>\n      <td>4.365926</td>\n      <td>3.528676</td>\n      <td>2.410400</td>\n    </tr>\n    <tr>\n      <th>2022-02-01</th>\n      <td>150458.0</td>\n      <td>0.476814</td>\n      <td>1.214918</td>\n      <td>2.419267</td>\n      <td>4.683184</td>\n      <td>4.206370</td>\n      <td>3.468266</td>\n      <td>2.263917</td>\n    </tr>\n    <tr>\n      <th>2022-03-01</th>\n      <td>150856.0</td>\n      <td>0.264526</td>\n      <td>1.082820</td>\n      <td>2.394657</td>\n      <td>4.448491</td>\n      <td>4.183965</td>\n      <td>3.365671</td>\n      <td>2.053834</td>\n    </tr>\n    <tr>\n      <th>2022-04-01</th>\n      <td>151292.0</td>\n      <td>0.289017</td>\n      <td>1.033764</td>\n      <td>2.220871</td>\n      <td>4.559968</td>\n      <td>4.270951</td>\n      <td>3.526204</td>\n      <td>2.339097</td>\n    </tr>\n    <tr>\n      <th>2022-05-01</th>\n      <td>151682.0</td>\n      <td>0.257780</td>\n      <td>0.813516</td>\n      <td>2.038318</td>\n      <td>4.506652</td>\n      <td>4.248872</td>\n      <td>3.693136</td>\n      <td>2.468334</td>\n    </tr>\n  </tbody>\n</table>\n<p>1001 rows × 8 columns</p>\n</div>"
     },
     "execution_count": 2,
     "metadata": {},
     "output_type": "execute_result"
    }
   ],
   "source": [
    "df_emp = data.data_employment()\n",
    "df_emp"
   ],
   "metadata": {
    "collapsed": false,
    "pycharm": {
     "name": "#%%\n"
    }
   }
  },
  {
   "cell_type": "code",
   "execution_count": 3,
   "outputs": [
    {
     "data": {
      "text/plain": "            policy_rate  policy_rate_1m_ago  policy_rate_delta_1m  \\\ndate                                                                \n1954-07-01         0.80                 NaN                   NaN   \n1954-08-01         1.22                0.80                  0.42   \n1954-09-01         1.07                1.22                 -0.15   \n1954-10-01         0.85                1.07                 -0.22   \n1954-11-01         0.83                0.85                 -0.02   \n...                 ...                 ...                   ...   \n2022-01-01         0.08                0.08                  0.00   \n2022-02-01         0.08                0.08                  0.00   \n2022-03-01         0.20                0.08                  0.12   \n2022-04-01         0.33                0.20                  0.13   \n2022-05-01         0.77                0.33                  0.44   \n\n            policy_rate_3m_ago  policy_rate_delta_3m  policy_rate_6m_ago  \\\ndate                                                                       \n1954-07-01                 NaN                   NaN                 NaN   \n1954-08-01                 NaN                   NaN                 NaN   \n1954-09-01                 NaN                   NaN                 NaN   \n1954-10-01                0.80                  0.05                 NaN   \n1954-11-01                1.22                 -0.39                 NaN   \n...                        ...                   ...                 ...   \n2022-01-01                0.08                  0.00                0.10   \n2022-02-01                0.08                  0.00                0.09   \n2022-03-01                0.08                  0.12                0.08   \n2022-04-01                0.08                  0.25                0.08   \n2022-05-01                0.08                  0.69                0.08   \n\n            policy_rate_delta_6m  policy_rate_12m_ago  policy_rate_delta_12m  \ndate                                                                          \n1954-07-01                   NaN                  NaN                    NaN  \n1954-08-01                   NaN                  NaN                    NaN  \n1954-09-01                   NaN                  NaN                    NaN  \n1954-10-01                   NaN                  NaN                    NaN  \n1954-11-01                   NaN                  NaN                    NaN  \n...                          ...                  ...                    ...  \n2022-01-01                 -0.02                 0.09                  -0.01  \n2022-02-01                 -0.01                 0.08                   0.00  \n2022-03-01                  0.12                 0.07                   0.13  \n2022-04-01                  0.25                 0.07                   0.26  \n2022-05-01                  0.69                 0.06                   0.71  \n\n[815 rows x 9 columns]",
      "text/html": "<div>\n<style scoped>\n    .dataframe tbody tr th:only-of-type {\n        vertical-align: middle;\n    }\n\n    .dataframe tbody tr th {\n        vertical-align: top;\n    }\n\n    .dataframe thead th {\n        text-align: right;\n    }\n</style>\n<table border=\"1\" class=\"dataframe\">\n  <thead>\n    <tr style=\"text-align: right;\">\n      <th></th>\n      <th>policy_rate</th>\n      <th>policy_rate_1m_ago</th>\n      <th>policy_rate_delta_1m</th>\n      <th>policy_rate_3m_ago</th>\n      <th>policy_rate_delta_3m</th>\n      <th>policy_rate_6m_ago</th>\n      <th>policy_rate_delta_6m</th>\n      <th>policy_rate_12m_ago</th>\n      <th>policy_rate_delta_12m</th>\n    </tr>\n    <tr>\n      <th>date</th>\n      <th></th>\n      <th></th>\n      <th></th>\n      <th></th>\n      <th></th>\n      <th></th>\n      <th></th>\n      <th></th>\n      <th></th>\n    </tr>\n  </thead>\n  <tbody>\n    <tr>\n      <th>1954-07-01</th>\n      <td>0.80</td>\n      <td>NaN</td>\n      <td>NaN</td>\n      <td>NaN</td>\n      <td>NaN</td>\n      <td>NaN</td>\n      <td>NaN</td>\n      <td>NaN</td>\n      <td>NaN</td>\n    </tr>\n    <tr>\n      <th>1954-08-01</th>\n      <td>1.22</td>\n      <td>0.80</td>\n      <td>0.42</td>\n      <td>NaN</td>\n      <td>NaN</td>\n      <td>NaN</td>\n      <td>NaN</td>\n      <td>NaN</td>\n      <td>NaN</td>\n    </tr>\n    <tr>\n      <th>1954-09-01</th>\n      <td>1.07</td>\n      <td>1.22</td>\n      <td>-0.15</td>\n      <td>NaN</td>\n      <td>NaN</td>\n      <td>NaN</td>\n      <td>NaN</td>\n      <td>NaN</td>\n      <td>NaN</td>\n    </tr>\n    <tr>\n      <th>1954-10-01</th>\n      <td>0.85</td>\n      <td>1.07</td>\n      <td>-0.22</td>\n      <td>0.80</td>\n      <td>0.05</td>\n      <td>NaN</td>\n      <td>NaN</td>\n      <td>NaN</td>\n      <td>NaN</td>\n    </tr>\n    <tr>\n      <th>1954-11-01</th>\n      <td>0.83</td>\n      <td>0.85</td>\n      <td>-0.02</td>\n      <td>1.22</td>\n      <td>-0.39</td>\n      <td>NaN</td>\n      <td>NaN</td>\n      <td>NaN</td>\n      <td>NaN</td>\n    </tr>\n    <tr>\n      <th>...</th>\n      <td>...</td>\n      <td>...</td>\n      <td>...</td>\n      <td>...</td>\n      <td>...</td>\n      <td>...</td>\n      <td>...</td>\n      <td>...</td>\n      <td>...</td>\n    </tr>\n    <tr>\n      <th>2022-01-01</th>\n      <td>0.08</td>\n      <td>0.08</td>\n      <td>0.00</td>\n      <td>0.08</td>\n      <td>0.00</td>\n      <td>0.10</td>\n      <td>-0.02</td>\n      <td>0.09</td>\n      <td>-0.01</td>\n    </tr>\n    <tr>\n      <th>2022-02-01</th>\n      <td>0.08</td>\n      <td>0.08</td>\n      <td>0.00</td>\n      <td>0.08</td>\n      <td>0.00</td>\n      <td>0.09</td>\n      <td>-0.01</td>\n      <td>0.08</td>\n      <td>0.00</td>\n    </tr>\n    <tr>\n      <th>2022-03-01</th>\n      <td>0.20</td>\n      <td>0.08</td>\n      <td>0.12</td>\n      <td>0.08</td>\n      <td>0.12</td>\n      <td>0.08</td>\n      <td>0.12</td>\n      <td>0.07</td>\n      <td>0.13</td>\n    </tr>\n    <tr>\n      <th>2022-04-01</th>\n      <td>0.33</td>\n      <td>0.20</td>\n      <td>0.13</td>\n      <td>0.08</td>\n      <td>0.25</td>\n      <td>0.08</td>\n      <td>0.25</td>\n      <td>0.07</td>\n      <td>0.26</td>\n    </tr>\n    <tr>\n      <th>2022-05-01</th>\n      <td>0.77</td>\n      <td>0.33</td>\n      <td>0.44</td>\n      <td>0.08</td>\n      <td>0.69</td>\n      <td>0.08</td>\n      <td>0.69</td>\n      <td>0.06</td>\n      <td>0.71</td>\n    </tr>\n  </tbody>\n</table>\n<p>815 rows × 9 columns</p>\n</div>"
     },
     "execution_count": 3,
     "metadata": {},
     "output_type": "execute_result"
    }
   ],
   "source": [
    "df_monetary = data.data_monetary()\n",
    "df_monetary"
   ],
   "metadata": {
    "collapsed": false,
    "pycharm": {
     "name": "#%%\n"
    }
   }
  },
  {
   "cell_type": "code",
   "execution_count": 4,
   "outputs": [
    {
     "data": {
      "text/plain": "                CPI  CPI_delta_1m  CPI_delta_3m  CPI_delta_6m  CPI_delta_12m\ndate                                                                        \n1947-01-01   21.480           NaN           NaN           NaN            NaN\n1947-02-01   21.620      0.651769           NaN           NaN            NaN\n1947-03-01   22.000      1.757632           NaN           NaN            NaN\n1947-04-01   22.000      0.000000      2.420857           NaN            NaN\n1947-05-01   21.950     -0.227273      1.526364           NaN            NaN\n...             ...           ...           ...           ...            ...\n2022-01-01  281.933      0.645067      1.931740      3.581768       7.525934\n2022-02-01  284.182      0.797707      2.031423      4.060903       7.912024\n2022-03-01  287.708      1.240754      2.706639      4.920974       8.557586\n2022-04-01  288.663      0.331934      2.387092      4.364945       8.224139\n2022-05-01  291.474      0.973800      2.565961      4.649510       8.516413\n\n[905 rows x 5 columns]",
      "text/html": "<div>\n<style scoped>\n    .dataframe tbody tr th:only-of-type {\n        vertical-align: middle;\n    }\n\n    .dataframe tbody tr th {\n        vertical-align: top;\n    }\n\n    .dataframe thead th {\n        text-align: right;\n    }\n</style>\n<table border=\"1\" class=\"dataframe\">\n  <thead>\n    <tr style=\"text-align: right;\">\n      <th></th>\n      <th>CPI</th>\n      <th>CPI_delta_1m</th>\n      <th>CPI_delta_3m</th>\n      <th>CPI_delta_6m</th>\n      <th>CPI_delta_12m</th>\n    </tr>\n    <tr>\n      <th>date</th>\n      <th></th>\n      <th></th>\n      <th></th>\n      <th></th>\n      <th></th>\n    </tr>\n  </thead>\n  <tbody>\n    <tr>\n      <th>1947-01-01</th>\n      <td>21.480</td>\n      <td>NaN</td>\n      <td>NaN</td>\n      <td>NaN</td>\n      <td>NaN</td>\n    </tr>\n    <tr>\n      <th>1947-02-01</th>\n      <td>21.620</td>\n      <td>0.651769</td>\n      <td>NaN</td>\n      <td>NaN</td>\n      <td>NaN</td>\n    </tr>\n    <tr>\n      <th>1947-03-01</th>\n      <td>22.000</td>\n      <td>1.757632</td>\n      <td>NaN</td>\n      <td>NaN</td>\n      <td>NaN</td>\n    </tr>\n    <tr>\n      <th>1947-04-01</th>\n      <td>22.000</td>\n      <td>0.000000</td>\n      <td>2.420857</td>\n      <td>NaN</td>\n      <td>NaN</td>\n    </tr>\n    <tr>\n      <th>1947-05-01</th>\n      <td>21.950</td>\n      <td>-0.227273</td>\n      <td>1.526364</td>\n      <td>NaN</td>\n      <td>NaN</td>\n    </tr>\n    <tr>\n      <th>...</th>\n      <td>...</td>\n      <td>...</td>\n      <td>...</td>\n      <td>...</td>\n      <td>...</td>\n    </tr>\n    <tr>\n      <th>2022-01-01</th>\n      <td>281.933</td>\n      <td>0.645067</td>\n      <td>1.931740</td>\n      <td>3.581768</td>\n      <td>7.525934</td>\n    </tr>\n    <tr>\n      <th>2022-02-01</th>\n      <td>284.182</td>\n      <td>0.797707</td>\n      <td>2.031423</td>\n      <td>4.060903</td>\n      <td>7.912024</td>\n    </tr>\n    <tr>\n      <th>2022-03-01</th>\n      <td>287.708</td>\n      <td>1.240754</td>\n      <td>2.706639</td>\n      <td>4.920974</td>\n      <td>8.557586</td>\n    </tr>\n    <tr>\n      <th>2022-04-01</th>\n      <td>288.663</td>\n      <td>0.331934</td>\n      <td>2.387092</td>\n      <td>4.364945</td>\n      <td>8.224139</td>\n    </tr>\n    <tr>\n      <th>2022-05-01</th>\n      <td>291.474</td>\n      <td>0.973800</td>\n      <td>2.565961</td>\n      <td>4.649510</td>\n      <td>8.516413</td>\n    </tr>\n  </tbody>\n</table>\n<p>905 rows × 5 columns</p>\n</div>"
     },
     "execution_count": 4,
     "metadata": {},
     "output_type": "execute_result"
    }
   ],
   "source": [
    "df_inflation = data.data_inflation()\n",
    "df_inflation"
   ],
   "metadata": {
    "collapsed": false,
    "pycharm": {
     "name": "#%%\n"
    }
   }
  },
  {
   "cell_type": "code",
   "execution_count": 5,
   "outputs": [
    {
     "data": {
      "text/plain": "            yield_10y  yield_3m  yield_10y_1m_ago  yield_10y_delta1m  \\\ndate                                                                   \n1953-04-01       2.83      2.19               NaN                NaN   \n1953-05-01       3.05      2.16              2.83               0.22   \n1953-06-01       3.11      2.11              3.05               0.06   \n1953-07-01       2.93      2.04              3.11              -0.18   \n1953-08-01       2.95      2.04              2.93               0.02   \n...               ...       ...               ...                ...   \n2022-01-01       1.76      0.15              1.47               0.29   \n2022-02-01       1.93      0.33              1.76               0.17   \n2022-03-01       2.13      0.44              1.93               0.20   \n2022-04-01       2.75      0.76              2.13               0.62   \n2022-05-01       2.90      0.98              2.75               0.15   \n\n            yield_10y_3m_ago  yield_10y_delta3m  yield_10y_6m_ago  \\\ndate                                                                \n1953-04-01               NaN                NaN               NaN   \n1953-05-01               NaN                NaN               NaN   \n1953-06-01               NaN                NaN               NaN   \n1953-07-01              2.83               0.10               NaN   \n1953-08-01              3.05              -0.10               NaN   \n...                      ...                ...               ...   \n2022-01-01              1.58               0.18              1.32   \n2022-02-01              1.56               0.37              1.28   \n2022-03-01              1.47               0.66              1.37   \n2022-04-01              1.76               0.99              1.58   \n2022-05-01              1.93               0.97              1.56   \n\n            yield_10y_delta6m  yield_10y_12m_ago  yield_10y_delta12m  \\\ndate                                                                   \n1953-04-01                NaN                NaN                 NaN   \n1953-05-01                NaN                NaN                 NaN   \n1953-06-01                NaN                NaN                 NaN   \n1953-07-01                NaN                NaN                 NaN   \n1953-08-01                NaN                NaN                 NaN   \n...                       ...                ...                 ...   \n2022-01-01               0.44               1.08                0.68   \n2022-02-01               0.65               1.26                0.67   \n2022-03-01               0.76               1.61                0.52   \n2022-04-01               1.17               1.64                1.11   \n2022-05-01               1.34               1.62                1.28   \n\n            yield_spread  \ndate                      \n1953-04-01          0.64  \n1953-05-01          0.89  \n1953-06-01          1.00  \n1953-07-01          0.89  \n1953-08-01          0.91  \n...                  ...  \n2022-01-01          1.61  \n2022-02-01          1.60  \n2022-03-01          1.69  \n2022-04-01          1.99  \n2022-05-01          1.92  \n\n[830 rows x 11 columns]",
      "text/html": "<div>\n<style scoped>\n    .dataframe tbody tr th:only-of-type {\n        vertical-align: middle;\n    }\n\n    .dataframe tbody tr th {\n        vertical-align: top;\n    }\n\n    .dataframe thead th {\n        text-align: right;\n    }\n</style>\n<table border=\"1\" class=\"dataframe\">\n  <thead>\n    <tr style=\"text-align: right;\">\n      <th></th>\n      <th>yield_10y</th>\n      <th>yield_3m</th>\n      <th>yield_10y_1m_ago</th>\n      <th>yield_10y_delta1m</th>\n      <th>yield_10y_3m_ago</th>\n      <th>yield_10y_delta3m</th>\n      <th>yield_10y_6m_ago</th>\n      <th>yield_10y_delta6m</th>\n      <th>yield_10y_12m_ago</th>\n      <th>yield_10y_delta12m</th>\n      <th>yield_spread</th>\n    </tr>\n    <tr>\n      <th>date</th>\n      <th></th>\n      <th></th>\n      <th></th>\n      <th></th>\n      <th></th>\n      <th></th>\n      <th></th>\n      <th></th>\n      <th></th>\n      <th></th>\n      <th></th>\n    </tr>\n  </thead>\n  <tbody>\n    <tr>\n      <th>1953-04-01</th>\n      <td>2.83</td>\n      <td>2.19</td>\n      <td>NaN</td>\n      <td>NaN</td>\n      <td>NaN</td>\n      <td>NaN</td>\n      <td>NaN</td>\n      <td>NaN</td>\n      <td>NaN</td>\n      <td>NaN</td>\n      <td>0.64</td>\n    </tr>\n    <tr>\n      <th>1953-05-01</th>\n      <td>3.05</td>\n      <td>2.16</td>\n      <td>2.83</td>\n      <td>0.22</td>\n      <td>NaN</td>\n      <td>NaN</td>\n      <td>NaN</td>\n      <td>NaN</td>\n      <td>NaN</td>\n      <td>NaN</td>\n      <td>0.89</td>\n    </tr>\n    <tr>\n      <th>1953-06-01</th>\n      <td>3.11</td>\n      <td>2.11</td>\n      <td>3.05</td>\n      <td>0.06</td>\n      <td>NaN</td>\n      <td>NaN</td>\n      <td>NaN</td>\n      <td>NaN</td>\n      <td>NaN</td>\n      <td>NaN</td>\n      <td>1.00</td>\n    </tr>\n    <tr>\n      <th>1953-07-01</th>\n      <td>2.93</td>\n      <td>2.04</td>\n      <td>3.11</td>\n      <td>-0.18</td>\n      <td>2.83</td>\n      <td>0.10</td>\n      <td>NaN</td>\n      <td>NaN</td>\n      <td>NaN</td>\n      <td>NaN</td>\n      <td>0.89</td>\n    </tr>\n    <tr>\n      <th>1953-08-01</th>\n      <td>2.95</td>\n      <td>2.04</td>\n      <td>2.93</td>\n      <td>0.02</td>\n      <td>3.05</td>\n      <td>-0.10</td>\n      <td>NaN</td>\n      <td>NaN</td>\n      <td>NaN</td>\n      <td>NaN</td>\n      <td>0.91</td>\n    </tr>\n    <tr>\n      <th>...</th>\n      <td>...</td>\n      <td>...</td>\n      <td>...</td>\n      <td>...</td>\n      <td>...</td>\n      <td>...</td>\n      <td>...</td>\n      <td>...</td>\n      <td>...</td>\n      <td>...</td>\n      <td>...</td>\n    </tr>\n    <tr>\n      <th>2022-01-01</th>\n      <td>1.76</td>\n      <td>0.15</td>\n      <td>1.47</td>\n      <td>0.29</td>\n      <td>1.58</td>\n      <td>0.18</td>\n      <td>1.32</td>\n      <td>0.44</td>\n      <td>1.08</td>\n      <td>0.68</td>\n      <td>1.61</td>\n    </tr>\n    <tr>\n      <th>2022-02-01</th>\n      <td>1.93</td>\n      <td>0.33</td>\n      <td>1.76</td>\n      <td>0.17</td>\n      <td>1.56</td>\n      <td>0.37</td>\n      <td>1.28</td>\n      <td>0.65</td>\n      <td>1.26</td>\n      <td>0.67</td>\n      <td>1.60</td>\n    </tr>\n    <tr>\n      <th>2022-03-01</th>\n      <td>2.13</td>\n      <td>0.44</td>\n      <td>1.93</td>\n      <td>0.20</td>\n      <td>1.47</td>\n      <td>0.66</td>\n      <td>1.37</td>\n      <td>0.76</td>\n      <td>1.61</td>\n      <td>0.52</td>\n      <td>1.69</td>\n    </tr>\n    <tr>\n      <th>2022-04-01</th>\n      <td>2.75</td>\n      <td>0.76</td>\n      <td>2.13</td>\n      <td>0.62</td>\n      <td>1.76</td>\n      <td>0.99</td>\n      <td>1.58</td>\n      <td>1.17</td>\n      <td>1.64</td>\n      <td>1.11</td>\n      <td>1.99</td>\n    </tr>\n    <tr>\n      <th>2022-05-01</th>\n      <td>2.90</td>\n      <td>0.98</td>\n      <td>2.75</td>\n      <td>0.15</td>\n      <td>1.93</td>\n      <td>0.97</td>\n      <td>1.56</td>\n      <td>1.34</td>\n      <td>1.62</td>\n      <td>1.28</td>\n      <td>1.92</td>\n    </tr>\n  </tbody>\n</table>\n<p>830 rows × 11 columns</p>\n</div>"
     },
     "execution_count": 5,
     "metadata": {},
     "output_type": "execute_result"
    }
   ],
   "source": [
    "yield_curve = data.data_yield_curve()\n",
    "yield_curve"
   ],
   "metadata": {
    "collapsed": false,
    "pycharm": {
     "name": "#%%\n"
    }
   }
  },
  {
   "cell_type": "code",
   "execution_count": 6,
   "outputs": [
    {
     "data": {
      "text/plain": "            Date    Adj Close\n0     1927-12-30    17.660000\n1     1928-01-03    17.760000\n2     1928-01-04    17.719999\n3     1928-01-05    17.549999\n4     1928-01-06    17.660000\n...          ...          ...\n23671 2022-03-25  4543.060059\n23672 2022-03-28  4575.520020\n23673 2022-03-29  4631.600098\n23674 2022-03-30  4602.450195\n23675 2022-03-31  4530.410156\n\n[23676 rows x 2 columns]",
      "text/html": "<div>\n<style scoped>\n    .dataframe tbody tr th:only-of-type {\n        vertical-align: middle;\n    }\n\n    .dataframe tbody tr th {\n        vertical-align: top;\n    }\n\n    .dataframe thead th {\n        text-align: right;\n    }\n</style>\n<table border=\"1\" class=\"dataframe\">\n  <thead>\n    <tr style=\"text-align: right;\">\n      <th></th>\n      <th>Date</th>\n      <th>Adj Close</th>\n    </tr>\n  </thead>\n  <tbody>\n    <tr>\n      <th>0</th>\n      <td>1927-12-30</td>\n      <td>17.660000</td>\n    </tr>\n    <tr>\n      <th>1</th>\n      <td>1928-01-03</td>\n      <td>17.760000</td>\n    </tr>\n    <tr>\n      <th>2</th>\n      <td>1928-01-04</td>\n      <td>17.719999</td>\n    </tr>\n    <tr>\n      <th>3</th>\n      <td>1928-01-05</td>\n      <td>17.549999</td>\n    </tr>\n    <tr>\n      <th>4</th>\n      <td>1928-01-06</td>\n      <td>17.660000</td>\n    </tr>\n    <tr>\n      <th>...</th>\n      <td>...</td>\n      <td>...</td>\n    </tr>\n    <tr>\n      <th>23671</th>\n      <td>2022-03-25</td>\n      <td>4543.060059</td>\n    </tr>\n    <tr>\n      <th>23672</th>\n      <td>2022-03-28</td>\n      <td>4575.520020</td>\n    </tr>\n    <tr>\n      <th>23673</th>\n      <td>2022-03-29</td>\n      <td>4631.600098</td>\n    </tr>\n    <tr>\n      <th>23674</th>\n      <td>2022-03-30</td>\n      <td>4602.450195</td>\n    </tr>\n    <tr>\n      <th>23675</th>\n      <td>2022-03-31</td>\n      <td>4530.410156</td>\n    </tr>\n  </tbody>\n</table>\n<p>23676 rows × 2 columns</p>\n</div>"
     },
     "execution_count": 6,
     "metadata": {},
     "output_type": "execute_result"
    }
   ],
   "source": [
    "data_stock_daily = data.get_stock_data_yahoo(['^GSPC'],\n",
    "                                  date_from='1920-01-01',\n",
    "                                  date_to='2022-03-31',\n",
    "                                  interval='d')[['Date', 'Adj Close']]\n",
    "data_stock_daily"
   ],
   "metadata": {
    "collapsed": false,
    "pycharm": {
     "name": "#%%\n"
    }
   }
  },
  {
   "cell_type": "code",
   "execution_count": 7,
   "outputs": [],
   "source": [
    "data_stock_daily.to_csv('sp500_daily_data.csv', index=False)"
   ],
   "metadata": {
    "collapsed": false,
    "pycharm": {
     "name": "#%%\n"
    }
   }
  },
  {
   "cell_type": "code",
   "execution_count": 8,
   "outputs": [
    {
     "data": {
      "text/plain": "             Date    Adj Close\n0      1927-12-30    17.660000\n1      1928-01-03    17.760000\n2      1928-01-04    17.719999\n3      1928-01-05    17.549999\n4      1928-01-06    17.660000\n...           ...          ...\n23671  2022-03-25  4543.060059\n23672  2022-03-28  4575.520020\n23673  2022-03-29  4631.600098\n23674  2022-03-30  4602.450195\n23675  2022-03-31  4530.410156\n\n[23676 rows x 2 columns]",
      "text/html": "<div>\n<style scoped>\n    .dataframe tbody tr th:only-of-type {\n        vertical-align: middle;\n    }\n\n    .dataframe tbody tr th {\n        vertical-align: top;\n    }\n\n    .dataframe thead th {\n        text-align: right;\n    }\n</style>\n<table border=\"1\" class=\"dataframe\">\n  <thead>\n    <tr style=\"text-align: right;\">\n      <th></th>\n      <th>Date</th>\n      <th>Adj Close</th>\n    </tr>\n  </thead>\n  <tbody>\n    <tr>\n      <th>0</th>\n      <td>1927-12-30</td>\n      <td>17.660000</td>\n    </tr>\n    <tr>\n      <th>1</th>\n      <td>1928-01-03</td>\n      <td>17.760000</td>\n    </tr>\n    <tr>\n      <th>2</th>\n      <td>1928-01-04</td>\n      <td>17.719999</td>\n    </tr>\n    <tr>\n      <th>3</th>\n      <td>1928-01-05</td>\n      <td>17.549999</td>\n    </tr>\n    <tr>\n      <th>4</th>\n      <td>1928-01-06</td>\n      <td>17.660000</td>\n    </tr>\n    <tr>\n      <th>...</th>\n      <td>...</td>\n      <td>...</td>\n    </tr>\n    <tr>\n      <th>23671</th>\n      <td>2022-03-25</td>\n      <td>4543.060059</td>\n    </tr>\n    <tr>\n      <th>23672</th>\n      <td>2022-03-28</td>\n      <td>4575.520020</td>\n    </tr>\n    <tr>\n      <th>23673</th>\n      <td>2022-03-29</td>\n      <td>4631.600098</td>\n    </tr>\n    <tr>\n      <th>23674</th>\n      <td>2022-03-30</td>\n      <td>4602.450195</td>\n    </tr>\n    <tr>\n      <th>23675</th>\n      <td>2022-03-31</td>\n      <td>4530.410156</td>\n    </tr>\n  </tbody>\n</table>\n<p>23676 rows × 2 columns</p>\n</div>"
     },
     "execution_count": 8,
     "metadata": {},
     "output_type": "execute_result"
    }
   ],
   "source": [
    "import pandas as pd\n",
    "data_stock = pd.read_csv('sp500_daily_data.csv')\n",
    "data_stock"
   ],
   "metadata": {
    "collapsed": false,
    "pycharm": {
     "name": "#%%\n"
    }
   }
  },
  {
   "cell_type": "code",
   "execution_count": 11,
   "outputs": [
    {
     "name": "stderr",
     "output_type": "stream",
     "text": [
      "/Users/kaylee/PycharmProjects/frtlab-recession-prediction/python_code/data.py:47: SettingWithCopyWarning: \n",
      "A value is trying to be set on a copy of a slice from a DataFrame.\n",
      "Try using .loc[row_indexer,col_indexer] = value instead\n",
      "\n",
      "See the caveats in the documentation: https://pandas.pydata.org/pandas-docs/stable/user_guide/indexing.html#returning-a-view-versus-a-copy\n",
      "  df['date'] = df['Date'] - pd.offsets.MonthBegin(1)\n"
     ]
    },
    {
     "data": {
      "text/plain": "                  sp500  sp500_delta_1m  sp500_delta_3m  sp500_delta_6m  \\\ndate                                                                      \n1927-12-01    17.660000             NaN             NaN             NaN   \n1928-01-01    17.570000       -0.509627             NaN             NaN   \n1928-02-01    17.260000       -1.764368             NaN             NaN   \n1928-03-01    19.280001       11.703363        9.173278             NaN   \n1928-04-01    19.750000        2.437756       12.407515             NaN   \n...                 ...             ...             ...             ...   \n2021-11-01  4567.000000       -0.833371        0.979946        8.631795   \n2021-12-01  4766.180176        4.361291       10.647380       10.905880   \n2022-01-01  4515.549805       -5.258517       -1.950547        2.736813   \n2022-02-01  4373.939941       -3.136049       -4.227284       -3.288763   \n2022-03-01  4530.410156        3.577329       -4.946729        5.173953   \n\n            sp500_delta_12m  \ndate                         \n1927-12-01              NaN  \n1928-01-01              NaN  \n1928-02-01              NaN  \n1928-03-01              NaN  \n1928-04-01              NaN  \n...                     ...  \n2021-11-01        26.103444  \n2021-12-01        26.892739  \n2022-01-01        21.573991  \n2022-02-01        14.766935  \n2022-03-01        14.033116  \n\n[1132 rows x 5 columns]",
      "text/html": "<div>\n<style scoped>\n    .dataframe tbody tr th:only-of-type {\n        vertical-align: middle;\n    }\n\n    .dataframe tbody tr th {\n        vertical-align: top;\n    }\n\n    .dataframe thead th {\n        text-align: right;\n    }\n</style>\n<table border=\"1\" class=\"dataframe\">\n  <thead>\n    <tr style=\"text-align: right;\">\n      <th></th>\n      <th>sp500</th>\n      <th>sp500_delta_1m</th>\n      <th>sp500_delta_3m</th>\n      <th>sp500_delta_6m</th>\n      <th>sp500_delta_12m</th>\n    </tr>\n    <tr>\n      <th>date</th>\n      <th></th>\n      <th></th>\n      <th></th>\n      <th></th>\n      <th></th>\n    </tr>\n  </thead>\n  <tbody>\n    <tr>\n      <th>1927-12-01</th>\n      <td>17.660000</td>\n      <td>NaN</td>\n      <td>NaN</td>\n      <td>NaN</td>\n      <td>NaN</td>\n    </tr>\n    <tr>\n      <th>1928-01-01</th>\n      <td>17.570000</td>\n      <td>-0.509627</td>\n      <td>NaN</td>\n      <td>NaN</td>\n      <td>NaN</td>\n    </tr>\n    <tr>\n      <th>1928-02-01</th>\n      <td>17.260000</td>\n      <td>-1.764368</td>\n      <td>NaN</td>\n      <td>NaN</td>\n      <td>NaN</td>\n    </tr>\n    <tr>\n      <th>1928-03-01</th>\n      <td>19.280001</td>\n      <td>11.703363</td>\n      <td>9.173278</td>\n      <td>NaN</td>\n      <td>NaN</td>\n    </tr>\n    <tr>\n      <th>1928-04-01</th>\n      <td>19.750000</td>\n      <td>2.437756</td>\n      <td>12.407515</td>\n      <td>NaN</td>\n      <td>NaN</td>\n    </tr>\n    <tr>\n      <th>...</th>\n      <td>...</td>\n      <td>...</td>\n      <td>...</td>\n      <td>...</td>\n      <td>...</td>\n    </tr>\n    <tr>\n      <th>2021-11-01</th>\n      <td>4567.000000</td>\n      <td>-0.833371</td>\n      <td>0.979946</td>\n      <td>8.631795</td>\n      <td>26.103444</td>\n    </tr>\n    <tr>\n      <th>2021-12-01</th>\n      <td>4766.180176</td>\n      <td>4.361291</td>\n      <td>10.647380</td>\n      <td>10.905880</td>\n      <td>26.892739</td>\n    </tr>\n    <tr>\n      <th>2022-01-01</th>\n      <td>4515.549805</td>\n      <td>-5.258517</td>\n      <td>-1.950547</td>\n      <td>2.736813</td>\n      <td>21.573991</td>\n    </tr>\n    <tr>\n      <th>2022-02-01</th>\n      <td>4373.939941</td>\n      <td>-3.136049</td>\n      <td>-4.227284</td>\n      <td>-3.288763</td>\n      <td>14.766935</td>\n    </tr>\n    <tr>\n      <th>2022-03-01</th>\n      <td>4530.410156</td>\n      <td>3.577329</td>\n      <td>-4.946729</td>\n      <td>5.173953</td>\n      <td>14.033116</td>\n    </tr>\n  </tbody>\n</table>\n<p>1132 rows × 5 columns</p>\n</div>"
     },
     "execution_count": 11,
     "metadata": {},
     "output_type": "execute_result"
    }
   ],
   "source": [
    "df_stock = data.data_stock_market()\n",
    "df_stock"
   ],
   "metadata": {
    "collapsed": false,
    "pycharm": {
     "name": "#%%\n"
    }
   }
  },
  {
   "cell_type": "code",
   "execution_count": 13,
   "outputs": [
    {
     "name": "stderr",
     "output_type": "stream",
     "text": [
      "/Users/kaylee/PycharmProjects/frtlab-recession-prediction/data.py:42: SettingWithCopyWarning: \n",
      "A value is trying to be set on a copy of a slice from a DataFrame.\n",
      "Try using .loc[row_indexer,col_indexer] = value instead\n",
      "\n",
      "See the caveats in the documentation: https://pandas.pydata.org/pandas-docs/stable/user_guide/indexing.html#returning-a-view-versus-a-copy\n",
      "  df['date'] = df['Date'] - pd.offsets.MonthBegin(1)\n"
     ]
    },
    {
     "data": {
      "text/plain": "             vol_30d\ndate                \n1927-12-01       NaN\n1928-01-01       NaN\n1928-02-01  0.666832\n1928-03-01  0.776760\n1928-04-01  0.927945\n...              ...\n2021-11-01  0.729942\n2021-12-01  1.112502\n2022-01-01  1.122077\n2022-02-01  1.390119\n2022-03-01  1.486786\n\n[1132 rows x 1 columns]",
      "text/html": "<div>\n<style scoped>\n    .dataframe tbody tr th:only-of-type {\n        vertical-align: middle;\n    }\n\n    .dataframe tbody tr th {\n        vertical-align: top;\n    }\n\n    .dataframe thead th {\n        text-align: right;\n    }\n</style>\n<table border=\"1\" class=\"dataframe\">\n  <thead>\n    <tr style=\"text-align: right;\">\n      <th></th>\n      <th>vol_30d</th>\n    </tr>\n    <tr>\n      <th>date</th>\n      <th></th>\n    </tr>\n  </thead>\n  <tbody>\n    <tr>\n      <th>1927-12-01</th>\n      <td>NaN</td>\n    </tr>\n    <tr>\n      <th>1928-01-01</th>\n      <td>NaN</td>\n    </tr>\n    <tr>\n      <th>1928-02-01</th>\n      <td>0.666832</td>\n    </tr>\n    <tr>\n      <th>1928-03-01</th>\n      <td>0.776760</td>\n    </tr>\n    <tr>\n      <th>1928-04-01</th>\n      <td>0.927945</td>\n    </tr>\n    <tr>\n      <th>...</th>\n      <td>...</td>\n    </tr>\n    <tr>\n      <th>2021-11-01</th>\n      <td>0.729942</td>\n    </tr>\n    <tr>\n      <th>2021-12-01</th>\n      <td>1.112502</td>\n    </tr>\n    <tr>\n      <th>2022-01-01</th>\n      <td>1.122077</td>\n    </tr>\n    <tr>\n      <th>2022-02-01</th>\n      <td>1.390119</td>\n    </tr>\n    <tr>\n      <th>2022-03-01</th>\n      <td>1.486786</td>\n    </tr>\n  </tbody>\n</table>\n<p>1132 rows × 1 columns</p>\n</div>"
     },
     "execution_count": 13,
     "metadata": {},
     "output_type": "execute_result"
    }
   ],
   "source": [
    "df_vol = data.data_volatility()\n",
    "df_vol"
   ],
   "metadata": {
    "collapsed": false,
    "pycharm": {
     "name": "#%%\n"
    }
   }
  },
  {
   "cell_type": "code",
   "execution_count": 17,
   "outputs": [
    {
     "data": {
      "text/plain": "            recession  recession_3m  recession_6m  recession_12m\ndate                                                            \n1947-02-01        1.0             1             1              1\n1947-03-01        1.0             1             1              1\n1947-04-01        1.0             1             1              1\n1947-05-01        1.0             1             1              1\n1947-06-01        1.0             1             1              1\n...               ...           ...           ...            ...\n2021-12-01        1.0             1             0              0\n2022-01-01        1.0             1             0              0\n2022-02-01        1.0             0             0              0\n2022-03-01        1.0             0             0              0\n2022-04-01        1.0             0             0              0\n\n[903 rows x 4 columns]",
      "text/html": "<div>\n<style scoped>\n    .dataframe tbody tr th:only-of-type {\n        vertical-align: middle;\n    }\n\n    .dataframe tbody tr th {\n        vertical-align: top;\n    }\n\n    .dataframe thead th {\n        text-align: right;\n    }\n</style>\n<table border=\"1\" class=\"dataframe\">\n  <thead>\n    <tr style=\"text-align: right;\">\n      <th></th>\n      <th>recession</th>\n      <th>recession_3m</th>\n      <th>recession_6m</th>\n      <th>recession_12m</th>\n    </tr>\n    <tr>\n      <th>date</th>\n      <th></th>\n      <th></th>\n      <th></th>\n      <th></th>\n    </tr>\n  </thead>\n  <tbody>\n    <tr>\n      <th>1947-02-01</th>\n      <td>1.0</td>\n      <td>1</td>\n      <td>1</td>\n      <td>1</td>\n    </tr>\n    <tr>\n      <th>1947-03-01</th>\n      <td>1.0</td>\n      <td>1</td>\n      <td>1</td>\n      <td>1</td>\n    </tr>\n    <tr>\n      <th>1947-04-01</th>\n      <td>1.0</td>\n      <td>1</td>\n      <td>1</td>\n      <td>1</td>\n    </tr>\n    <tr>\n      <th>1947-05-01</th>\n      <td>1.0</td>\n      <td>1</td>\n      <td>1</td>\n      <td>1</td>\n    </tr>\n    <tr>\n      <th>1947-06-01</th>\n      <td>1.0</td>\n      <td>1</td>\n      <td>1</td>\n      <td>1</td>\n    </tr>\n    <tr>\n      <th>...</th>\n      <td>...</td>\n      <td>...</td>\n      <td>...</td>\n      <td>...</td>\n    </tr>\n    <tr>\n      <th>2021-12-01</th>\n      <td>1.0</td>\n      <td>1</td>\n      <td>0</td>\n      <td>0</td>\n    </tr>\n    <tr>\n      <th>2022-01-01</th>\n      <td>1.0</td>\n      <td>1</td>\n      <td>0</td>\n      <td>0</td>\n    </tr>\n    <tr>\n      <th>2022-02-01</th>\n      <td>1.0</td>\n      <td>0</td>\n      <td>0</td>\n      <td>0</td>\n    </tr>\n    <tr>\n      <th>2022-03-01</th>\n      <td>1.0</td>\n      <td>0</td>\n      <td>0</td>\n      <td>0</td>\n    </tr>\n    <tr>\n      <th>2022-04-01</th>\n      <td>1.0</td>\n      <td>0</td>\n      <td>0</td>\n      <td>0</td>\n    </tr>\n  </tbody>\n</table>\n<p>903 rows × 4 columns</p>\n</div>"
     },
     "execution_count": 17,
     "metadata": {},
     "output_type": "execute_result"
    }
   ],
   "source": [
    "df_recession = data.data_recession()\n",
    "df_recession"
   ],
   "metadata": {
    "collapsed": false,
    "pycharm": {
     "name": "#%%\n"
    }
   }
  },
  {
   "cell_type": "markdown",
   "source": [
    "### Combine all X & y data"
   ],
   "metadata": {
    "collapsed": false,
    "pycharm": {
     "name": "#%% md\n"
    }
   }
  },
  {
   "cell_type": "code",
   "execution_count": 15,
   "outputs": [
    {
     "data": {
      "text/plain": "            nonfarm_payroll  payroll_delta_1m  payroll_delta_3m  \\\ndate                                                              \n1939-01-01          29923.0               NaN               NaN   \n1939-02-01          30100.0          0.591518               NaN   \n1939-03-01          30280.0          0.598007               NaN   \n1939-04-01          30094.0         -0.614267          0.571467   \n1939-05-01          30299.0          0.681199          0.661130   \n...                     ...               ...               ...   \n2021-12-01         149240.0          0.395555          1.297785   \n2022-01-01         149744.0          0.337711          1.174960   \n2022-02-01         150458.0          0.476814          1.214918   \n2022-03-01         150886.0          0.284465          1.102921   \n2022-04-01         151314.0          0.283658          1.048456   \n\n            payroll_delta_6m  payroll_delta_12m  payroll_diff_12m_1m  \\\ndate                                                                   \n1939-01-01               NaN                NaN                  NaN   \n1939-02-01               NaN                NaN                  NaN   \n1939-03-01               NaN                NaN                  NaN   \n1939-04-01               NaN                NaN                  NaN   \n1939-05-01               NaN                NaN                  NaN   \n...                      ...                ...                  ...   \n2021-12-01          2.431056           4.732029             4.336475   \n2022-01-01          2.293236           4.703637             4.365926   \n2022-02-01          2.419267           4.683184             4.206370   \n2022-03-01          2.415020           4.469262             4.184797   \n2022-04-01          2.235735           4.575172             4.291515   \n\n            payroll_diff_12m_3m  payroll_diff_12m_6m  policy_rate  \\\ndate                                                                \n1939-01-01                  NaN                  NaN          NaN   \n1939-02-01                  NaN                  NaN          NaN   \n1939-03-01                  NaN                  NaN          NaN   \n1939-04-01                  NaN                  NaN          NaN   \n1939-05-01                  NaN                  NaN          NaN   \n...                         ...                  ...          ...   \n2021-12-01             3.434245             2.300973         0.08   \n2022-01-01             3.528676             2.410400         0.08   \n2022-02-01             3.468266             2.263917         0.08   \n2022-03-01             3.366341             2.054243         0.20   \n2022-04-01             3.526716             2.339437         0.33   \n\n            policy_rate_1m_ago  ...        sp500  sp500_delta_1m  \\\ndate                            ...                                \n1939-01-01                 NaN  ...    12.300000       -6.392695   \n1939-02-01                 NaN  ...    12.700000        3.252029   \n1939-03-01                 NaN  ...    10.980000      -13.543309   \n1939-04-01                 NaN  ...    10.930000       -0.455366   \n1939-05-01                 NaN  ...    11.600000        6.129918   \n...                        ...  ...          ...             ...   \n2021-12-01                0.08  ...  4766.180176        4.361291   \n2022-01-01                0.08  ...  4515.549805       -5.258517   \n2022-02-01                0.08  ...  4373.939941       -3.136049   \n2022-03-01                0.08  ...  4530.410156        3.577329   \n2022-04-01                0.20  ...          NaN             NaN   \n\n            sp500_delta_3m  sp500_delta_6m  sp500_delta_12m   vol_30d  \\\ndate                                                                    \n1939-01-01       -6.605922       -0.243307        15.060811  1.846643   \n1939-02-01       -0.235662        5.306794        11.992942  1.868115   \n1939-03-01      -16.438362      -10.294120        29.176465  1.755651   \n1939-04-01      -11.138210      -17.008350        11.758697  1.988600   \n1939-05-01       -8.661413       -8.876663        25.134842  1.223243   \n...                    ...             ...              ...       ...   \n2021-12-01       10.647380       10.905880        26.892739  1.112502   \n2022-01-01       -1.950547        2.736813        21.573991  1.122077   \n2022-02-01       -4.227284       -3.288763        14.766935  1.390119   \n2022-03-01       -4.946729        5.173953        14.033116  1.486786   \n2022-04-01             NaN             NaN              NaN       NaN   \n\n            recession  recession_3m  recession_6m  recession_12m  \ndate                                                              \n1939-01-01        NaN           NaN           NaN            NaN  \n1939-02-01        NaN           NaN           NaN            NaN  \n1939-03-01        NaN           NaN           NaN            NaN  \n1939-04-01        NaN           NaN           NaN            NaN  \n1939-05-01        NaN           NaN           NaN            NaN  \n...               ...           ...           ...            ...  \n2021-12-01        1.0           1.0           0.0            0.0  \n2022-01-01        1.0           1.0           0.0            0.0  \n2022-02-01        1.0           0.0           0.0            0.0  \n2022-03-01        1.0           0.0           0.0            0.0  \n2022-04-01        1.0           0.0           0.0            0.0  \n\n[1000 rows x 43 columns]",
      "text/html": "<div>\n<style scoped>\n    .dataframe tbody tr th:only-of-type {\n        vertical-align: middle;\n    }\n\n    .dataframe tbody tr th {\n        vertical-align: top;\n    }\n\n    .dataframe thead th {\n        text-align: right;\n    }\n</style>\n<table border=\"1\" class=\"dataframe\">\n  <thead>\n    <tr style=\"text-align: right;\">\n      <th></th>\n      <th>nonfarm_payroll</th>\n      <th>payroll_delta_1m</th>\n      <th>payroll_delta_3m</th>\n      <th>payroll_delta_6m</th>\n      <th>payroll_delta_12m</th>\n      <th>payroll_diff_12m_1m</th>\n      <th>payroll_diff_12m_3m</th>\n      <th>payroll_diff_12m_6m</th>\n      <th>policy_rate</th>\n      <th>policy_rate_1m_ago</th>\n      <th>...</th>\n      <th>sp500</th>\n      <th>sp500_delta_1m</th>\n      <th>sp500_delta_3m</th>\n      <th>sp500_delta_6m</th>\n      <th>sp500_delta_12m</th>\n      <th>vol_30d</th>\n      <th>recession</th>\n      <th>recession_3m</th>\n      <th>recession_6m</th>\n      <th>recession_12m</th>\n    </tr>\n    <tr>\n      <th>date</th>\n      <th></th>\n      <th></th>\n      <th></th>\n      <th></th>\n      <th></th>\n      <th></th>\n      <th></th>\n      <th></th>\n      <th></th>\n      <th></th>\n      <th></th>\n      <th></th>\n      <th></th>\n      <th></th>\n      <th></th>\n      <th></th>\n      <th></th>\n      <th></th>\n      <th></th>\n      <th></th>\n      <th></th>\n    </tr>\n  </thead>\n  <tbody>\n    <tr>\n      <th>1939-01-01</th>\n      <td>29923.0</td>\n      <td>NaN</td>\n      <td>NaN</td>\n      <td>NaN</td>\n      <td>NaN</td>\n      <td>NaN</td>\n      <td>NaN</td>\n      <td>NaN</td>\n      <td>NaN</td>\n      <td>NaN</td>\n      <td>...</td>\n      <td>12.300000</td>\n      <td>-6.392695</td>\n      <td>-6.605922</td>\n      <td>-0.243307</td>\n      <td>15.060811</td>\n      <td>1.846643</td>\n      <td>NaN</td>\n      <td>NaN</td>\n      <td>NaN</td>\n      <td>NaN</td>\n    </tr>\n    <tr>\n      <th>1939-02-01</th>\n      <td>30100.0</td>\n      <td>0.591518</td>\n      <td>NaN</td>\n      <td>NaN</td>\n      <td>NaN</td>\n      <td>NaN</td>\n      <td>NaN</td>\n      <td>NaN</td>\n      <td>NaN</td>\n      <td>NaN</td>\n      <td>...</td>\n      <td>12.700000</td>\n      <td>3.252029</td>\n      <td>-0.235662</td>\n      <td>5.306794</td>\n      <td>11.992942</td>\n      <td>1.868115</td>\n      <td>NaN</td>\n      <td>NaN</td>\n      <td>NaN</td>\n      <td>NaN</td>\n    </tr>\n    <tr>\n      <th>1939-03-01</th>\n      <td>30280.0</td>\n      <td>0.598007</td>\n      <td>NaN</td>\n      <td>NaN</td>\n      <td>NaN</td>\n      <td>NaN</td>\n      <td>NaN</td>\n      <td>NaN</td>\n      <td>NaN</td>\n      <td>NaN</td>\n      <td>...</td>\n      <td>10.980000</td>\n      <td>-13.543309</td>\n      <td>-16.438362</td>\n      <td>-10.294120</td>\n      <td>29.176465</td>\n      <td>1.755651</td>\n      <td>NaN</td>\n      <td>NaN</td>\n      <td>NaN</td>\n      <td>NaN</td>\n    </tr>\n    <tr>\n      <th>1939-04-01</th>\n      <td>30094.0</td>\n      <td>-0.614267</td>\n      <td>0.571467</td>\n      <td>NaN</td>\n      <td>NaN</td>\n      <td>NaN</td>\n      <td>NaN</td>\n      <td>NaN</td>\n      <td>NaN</td>\n      <td>NaN</td>\n      <td>...</td>\n      <td>10.930000</td>\n      <td>-0.455366</td>\n      <td>-11.138210</td>\n      <td>-17.008350</td>\n      <td>11.758697</td>\n      <td>1.988600</td>\n      <td>NaN</td>\n      <td>NaN</td>\n      <td>NaN</td>\n      <td>NaN</td>\n    </tr>\n    <tr>\n      <th>1939-05-01</th>\n      <td>30299.0</td>\n      <td>0.681199</td>\n      <td>0.661130</td>\n      <td>NaN</td>\n      <td>NaN</td>\n      <td>NaN</td>\n      <td>NaN</td>\n      <td>NaN</td>\n      <td>NaN</td>\n      <td>NaN</td>\n      <td>...</td>\n      <td>11.600000</td>\n      <td>6.129918</td>\n      <td>-8.661413</td>\n      <td>-8.876663</td>\n      <td>25.134842</td>\n      <td>1.223243</td>\n      <td>NaN</td>\n      <td>NaN</td>\n      <td>NaN</td>\n      <td>NaN</td>\n    </tr>\n    <tr>\n      <th>...</th>\n      <td>...</td>\n      <td>...</td>\n      <td>...</td>\n      <td>...</td>\n      <td>...</td>\n      <td>...</td>\n      <td>...</td>\n      <td>...</td>\n      <td>...</td>\n      <td>...</td>\n      <td>...</td>\n      <td>...</td>\n      <td>...</td>\n      <td>...</td>\n      <td>...</td>\n      <td>...</td>\n      <td>...</td>\n      <td>...</td>\n      <td>...</td>\n      <td>...</td>\n      <td>...</td>\n    </tr>\n    <tr>\n      <th>2021-12-01</th>\n      <td>149240.0</td>\n      <td>0.395555</td>\n      <td>1.297785</td>\n      <td>2.431056</td>\n      <td>4.732029</td>\n      <td>4.336475</td>\n      <td>3.434245</td>\n      <td>2.300973</td>\n      <td>0.08</td>\n      <td>0.08</td>\n      <td>...</td>\n      <td>4766.180176</td>\n      <td>4.361291</td>\n      <td>10.647380</td>\n      <td>10.905880</td>\n      <td>26.892739</td>\n      <td>1.112502</td>\n      <td>1.0</td>\n      <td>1.0</td>\n      <td>0.0</td>\n      <td>0.0</td>\n    </tr>\n    <tr>\n      <th>2022-01-01</th>\n      <td>149744.0</td>\n      <td>0.337711</td>\n      <td>1.174960</td>\n      <td>2.293236</td>\n      <td>4.703637</td>\n      <td>4.365926</td>\n      <td>3.528676</td>\n      <td>2.410400</td>\n      <td>0.08</td>\n      <td>0.08</td>\n      <td>...</td>\n      <td>4515.549805</td>\n      <td>-5.258517</td>\n      <td>-1.950547</td>\n      <td>2.736813</td>\n      <td>21.573991</td>\n      <td>1.122077</td>\n      <td>1.0</td>\n      <td>1.0</td>\n      <td>0.0</td>\n      <td>0.0</td>\n    </tr>\n    <tr>\n      <th>2022-02-01</th>\n      <td>150458.0</td>\n      <td>0.476814</td>\n      <td>1.214918</td>\n      <td>2.419267</td>\n      <td>4.683184</td>\n      <td>4.206370</td>\n      <td>3.468266</td>\n      <td>2.263917</td>\n      <td>0.08</td>\n      <td>0.08</td>\n      <td>...</td>\n      <td>4373.939941</td>\n      <td>-3.136049</td>\n      <td>-4.227284</td>\n      <td>-3.288763</td>\n      <td>14.766935</td>\n      <td>1.390119</td>\n      <td>1.0</td>\n      <td>0.0</td>\n      <td>0.0</td>\n      <td>0.0</td>\n    </tr>\n    <tr>\n      <th>2022-03-01</th>\n      <td>150886.0</td>\n      <td>0.284465</td>\n      <td>1.102921</td>\n      <td>2.415020</td>\n      <td>4.469262</td>\n      <td>4.184797</td>\n      <td>3.366341</td>\n      <td>2.054243</td>\n      <td>0.20</td>\n      <td>0.08</td>\n      <td>...</td>\n      <td>4530.410156</td>\n      <td>3.577329</td>\n      <td>-4.946729</td>\n      <td>5.173953</td>\n      <td>14.033116</td>\n      <td>1.486786</td>\n      <td>1.0</td>\n      <td>0.0</td>\n      <td>0.0</td>\n      <td>0.0</td>\n    </tr>\n    <tr>\n      <th>2022-04-01</th>\n      <td>151314.0</td>\n      <td>0.283658</td>\n      <td>1.048456</td>\n      <td>2.235735</td>\n      <td>4.575172</td>\n      <td>4.291515</td>\n      <td>3.526716</td>\n      <td>2.339437</td>\n      <td>0.33</td>\n      <td>0.20</td>\n      <td>...</td>\n      <td>NaN</td>\n      <td>NaN</td>\n      <td>NaN</td>\n      <td>NaN</td>\n      <td>NaN</td>\n      <td>NaN</td>\n      <td>1.0</td>\n      <td>0.0</td>\n      <td>0.0</td>\n      <td>0.0</td>\n    </tr>\n  </tbody>\n</table>\n<p>1000 rows × 43 columns</p>\n</div>"
     },
     "execution_count": 15,
     "metadata": {},
     "output_type": "execute_result"
    }
   ],
   "source": [
    "all_data = df_emp.join(df_monetary).join(df_inflation).join(yield_curve).join(df_stock).join(df_vol).join(df_recession)\n",
    "all_data"
   ],
   "metadata": {
    "collapsed": false,
    "pycharm": {
     "name": "#%%\n"
    }
   }
  },
  {
   "cell_type": "code",
   "execution_count": 29,
   "outputs": [],
   "source": [
    "# Save all the features & y variable to a local directory\n",
    "all_data.to_csv('data_folder/data/all_data.csv')"
   ],
   "metadata": {
    "collapsed": false,
    "pycharm": {
     "name": "#%%\n"
    }
   }
  },
  {
   "cell_type": "markdown",
   "source": [
    "### Note on 3m yield data substitue"
   ],
   "metadata": {
    "collapsed": false,
    "pycharm": {
     "name": "#%% md\n"
    }
   }
  },
  {
   "cell_type": "code",
   "execution_count": 23,
   "outputs": [],
   "source": [
    "# Connect API\n",
    "fred = fa.Fred(api_key=config.FRED_API_KEY)\n",
    "\n",
    "# 3m Tbill secondary\n",
    "data_3m_sec = fred.get_series(config.TBILL_MONTHLY['3M']).rename('3m_sec').reset_index().rename(\n",
    "    columns={'index': 'date'}).set_index('date')\n",
    "\n",
    "# 3m Treasury constant maturity\n",
    "data_3m_mat = fred.get_series(config.TREASURY_MONTHLY['3M']).rename('3m_mat').reset_index().rename(\n",
    "    columns={'index': 'date'}).set_index('date')"
   ],
   "metadata": {
    "collapsed": false,
    "pycharm": {
     "name": "#%%\n"
    }
   }
  },
  {
   "cell_type": "code",
   "execution_count": 24,
   "outputs": [
    {
     "data": {
      "text/plain": "            3m_sec\ndate              \n1934-01-01    0.72\n1934-02-01    0.62\n1934-03-01    0.24\n1934-04-01    0.15\n1934-05-01    0.16\n...            ...\n2021-12-01    0.06\n2022-01-01    0.15\n2022-02-01    0.33\n2022-03-01    0.44\n2022-04-01    0.76\n\n[1060 rows x 1 columns]",
      "text/html": "<div>\n<style scoped>\n    .dataframe tbody tr th:only-of-type {\n        vertical-align: middle;\n    }\n\n    .dataframe tbody tr th {\n        vertical-align: top;\n    }\n\n    .dataframe thead th {\n        text-align: right;\n    }\n</style>\n<table border=\"1\" class=\"dataframe\">\n  <thead>\n    <tr style=\"text-align: right;\">\n      <th></th>\n      <th>3m_sec</th>\n    </tr>\n    <tr>\n      <th>date</th>\n      <th></th>\n    </tr>\n  </thead>\n  <tbody>\n    <tr>\n      <th>1934-01-01</th>\n      <td>0.72</td>\n    </tr>\n    <tr>\n      <th>1934-02-01</th>\n      <td>0.62</td>\n    </tr>\n    <tr>\n      <th>1934-03-01</th>\n      <td>0.24</td>\n    </tr>\n    <tr>\n      <th>1934-04-01</th>\n      <td>0.15</td>\n    </tr>\n    <tr>\n      <th>1934-05-01</th>\n      <td>0.16</td>\n    </tr>\n    <tr>\n      <th>...</th>\n      <td>...</td>\n    </tr>\n    <tr>\n      <th>2021-12-01</th>\n      <td>0.06</td>\n    </tr>\n    <tr>\n      <th>2022-01-01</th>\n      <td>0.15</td>\n    </tr>\n    <tr>\n      <th>2022-02-01</th>\n      <td>0.33</td>\n    </tr>\n    <tr>\n      <th>2022-03-01</th>\n      <td>0.44</td>\n    </tr>\n    <tr>\n      <th>2022-04-01</th>\n      <td>0.76</td>\n    </tr>\n  </tbody>\n</table>\n<p>1060 rows × 1 columns</p>\n</div>"
     },
     "execution_count": 24,
     "metadata": {},
     "output_type": "execute_result"
    }
   ],
   "source": [
    "data_3m_sec"
   ],
   "metadata": {
    "collapsed": false,
    "pycharm": {
     "name": "#%%\n"
    }
   }
  },
  {
   "cell_type": "code",
   "execution_count": 25,
   "outputs": [
    {
     "data": {
      "text/plain": "            3m_mat\ndate              \n1981-09-01   15.61\n1981-10-01   14.23\n1981-11-01   11.35\n1981-12-01   11.32\n1982-01-01   12.92\n...            ...\n2021-12-01    0.06\n2022-01-01    0.15\n2022-02-01    0.31\n2022-03-01    0.45\n2022-04-01    0.76\n\n[488 rows x 1 columns]",
      "text/html": "<div>\n<style scoped>\n    .dataframe tbody tr th:only-of-type {\n        vertical-align: middle;\n    }\n\n    .dataframe tbody tr th {\n        vertical-align: top;\n    }\n\n    .dataframe thead th {\n        text-align: right;\n    }\n</style>\n<table border=\"1\" class=\"dataframe\">\n  <thead>\n    <tr style=\"text-align: right;\">\n      <th></th>\n      <th>3m_mat</th>\n    </tr>\n    <tr>\n      <th>date</th>\n      <th></th>\n    </tr>\n  </thead>\n  <tbody>\n    <tr>\n      <th>1981-09-01</th>\n      <td>15.61</td>\n    </tr>\n    <tr>\n      <th>1981-10-01</th>\n      <td>14.23</td>\n    </tr>\n    <tr>\n      <th>1981-11-01</th>\n      <td>11.35</td>\n    </tr>\n    <tr>\n      <th>1981-12-01</th>\n      <td>11.32</td>\n    </tr>\n    <tr>\n      <th>1982-01-01</th>\n      <td>12.92</td>\n    </tr>\n    <tr>\n      <th>...</th>\n      <td>...</td>\n    </tr>\n    <tr>\n      <th>2021-12-01</th>\n      <td>0.06</td>\n    </tr>\n    <tr>\n      <th>2022-01-01</th>\n      <td>0.15</td>\n    </tr>\n    <tr>\n      <th>2022-02-01</th>\n      <td>0.31</td>\n    </tr>\n    <tr>\n      <th>2022-03-01</th>\n      <td>0.45</td>\n    </tr>\n    <tr>\n      <th>2022-04-01</th>\n      <td>0.76</td>\n    </tr>\n  </tbody>\n</table>\n<p>488 rows × 1 columns</p>\n</div>"
     },
     "execution_count": 25,
     "metadata": {},
     "output_type": "execute_result"
    }
   ],
   "source": [
    "data_3m_mat"
   ],
   "metadata": {
    "collapsed": false,
    "pycharm": {
     "name": "#%%\n"
    }
   }
  },
  {
   "cell_type": "code",
   "execution_count": 27,
   "outputs": [
    {
     "data": {
      "text/plain": "            3m_sec  3m_mat\ndate                      \n1981-09-01   14.70   15.61\n1981-10-01   13.54   14.23\n1981-11-01   10.86   11.35\n1981-12-01   10.85   11.32\n1982-01-01   12.28   12.92\n...            ...     ...\n2021-12-01    0.06    0.06\n2022-01-01    0.15    0.15\n2022-02-01    0.33    0.31\n2022-03-01    0.44    0.45\n2022-04-01    0.76    0.76\n\n[488 rows x 2 columns]",
      "text/html": "<div>\n<style scoped>\n    .dataframe tbody tr th:only-of-type {\n        vertical-align: middle;\n    }\n\n    .dataframe tbody tr th {\n        vertical-align: top;\n    }\n\n    .dataframe thead th {\n        text-align: right;\n    }\n</style>\n<table border=\"1\" class=\"dataframe\">\n  <thead>\n    <tr style=\"text-align: right;\">\n      <th></th>\n      <th>3m_sec</th>\n      <th>3m_mat</th>\n    </tr>\n    <tr>\n      <th>date</th>\n      <th></th>\n      <th></th>\n    </tr>\n  </thead>\n  <tbody>\n    <tr>\n      <th>1981-09-01</th>\n      <td>14.70</td>\n      <td>15.61</td>\n    </tr>\n    <tr>\n      <th>1981-10-01</th>\n      <td>13.54</td>\n      <td>14.23</td>\n    </tr>\n    <tr>\n      <th>1981-11-01</th>\n      <td>10.86</td>\n      <td>11.35</td>\n    </tr>\n    <tr>\n      <th>1981-12-01</th>\n      <td>10.85</td>\n      <td>11.32</td>\n    </tr>\n    <tr>\n      <th>1982-01-01</th>\n      <td>12.28</td>\n      <td>12.92</td>\n    </tr>\n    <tr>\n      <th>...</th>\n      <td>...</td>\n      <td>...</td>\n    </tr>\n    <tr>\n      <th>2021-12-01</th>\n      <td>0.06</td>\n      <td>0.06</td>\n    </tr>\n    <tr>\n      <th>2022-01-01</th>\n      <td>0.15</td>\n      <td>0.15</td>\n    </tr>\n    <tr>\n      <th>2022-02-01</th>\n      <td>0.33</td>\n      <td>0.31</td>\n    </tr>\n    <tr>\n      <th>2022-03-01</th>\n      <td>0.44</td>\n      <td>0.45</td>\n    </tr>\n    <tr>\n      <th>2022-04-01</th>\n      <td>0.76</td>\n      <td>0.76</td>\n    </tr>\n  </tbody>\n</table>\n<p>488 rows × 2 columns</p>\n</div>"
     },
     "execution_count": 27,
     "metadata": {},
     "output_type": "execute_result"
    }
   ],
   "source": [
    "data_3m = data_3m_sec.join(data_3m_mat).dropna()\n",
    "data_3m"
   ],
   "metadata": {
    "collapsed": false,
    "pycharm": {
     "name": "#%%\n"
    }
   }
  },
  {
   "cell_type": "code",
   "execution_count": 28,
   "outputs": [
    {
     "data": {
      "text/plain": "          3m_sec    3m_mat\n3m_sec  1.000000  0.999935\n3m_mat  0.999935  1.000000",
      "text/html": "<div>\n<style scoped>\n    .dataframe tbody tr th:only-of-type {\n        vertical-align: middle;\n    }\n\n    .dataframe tbody tr th {\n        vertical-align: top;\n    }\n\n    .dataframe thead th {\n        text-align: right;\n    }\n</style>\n<table border=\"1\" class=\"dataframe\">\n  <thead>\n    <tr style=\"text-align: right;\">\n      <th></th>\n      <th>3m_sec</th>\n      <th>3m_mat</th>\n    </tr>\n  </thead>\n  <tbody>\n    <tr>\n      <th>3m_sec</th>\n      <td>1.000000</td>\n      <td>0.999935</td>\n    </tr>\n    <tr>\n      <th>3m_mat</th>\n      <td>0.999935</td>\n      <td>1.000000</td>\n    </tr>\n  </tbody>\n</table>\n</div>"
     },
     "execution_count": 28,
     "metadata": {},
     "output_type": "execute_result"
    }
   ],
   "source": [
    "# Show correlation between two yields during the overlapping period\n",
    "data_3m.corr()"
   ],
   "metadata": {
    "collapsed": false,
    "pycharm": {
     "name": "#%%\n"
    }
   }
  },
  {
   "cell_type": "code",
   "execution_count": null,
   "outputs": [],
   "source": [],
   "metadata": {
    "collapsed": false,
    "pycharm": {
     "name": "#%%\n"
    }
   }
  }
 ],
 "metadata": {
  "kernelspec": {
   "display_name": "Python 3",
   "language": "python",
   "name": "python3"
  },
  "language_info": {
   "codemirror_mode": {
    "name": "ipython",
    "version": 2
   },
   "file_extension": ".py",
   "mimetype": "text/x-python",
   "name": "python",
   "nbconvert_exporter": "python",
   "pygments_lexer": "ipython2",
   "version": "2.7.6"
  }
 },
 "nbformat": 4,
 "nbformat_minor": 0
}